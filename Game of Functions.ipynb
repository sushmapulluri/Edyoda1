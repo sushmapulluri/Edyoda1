{
 "cells": [
  {
   "cell_type": "code",
   "execution_count": 6,
   "id": "44cf83b7",
   "metadata": {},
   "outputs": [
    {
     "name": "stdout",
     "output_type": "stream",
     "text": [
      " sum of number [8, 2, 3, 0, 7] = 20\n"
     ]
    }
   ],
   "source": [
    "def sum_of_numbers(s):    \n",
    "    total = 0                       \n",
    "    for num in s:      \n",
    "        total+= num\n",
    "    return total\n",
    "s = [8, 2, 3, 0, 7]      \n",
    "sum = sum_of_numbers(s)\n",
    "print(f\" sum of number {s} = {sum}\")"
   ]
  },
  {
   "cell_type": "code",
   "execution_count": null,
   "id": "7dc79f51",
   "metadata": {},
   "outputs": [],
   "source": []
  }
 ],
 "metadata": {
  "kernelspec": {
   "display_name": "Python 3",
   "language": "python",
   "name": "python3"
  },
  "language_info": {
   "codemirror_mode": {
    "name": "ipython",
    "version": 3
   },
   "file_extension": ".py",
   "mimetype": "text/x-python",
   "name": "python",
   "nbconvert_exporter": "python",
   "pygments_lexer": "ipython3",
   "version": "3.8.8"
  }
 },
 "nbformat": 4,
 "nbformat_minor": 5
}
