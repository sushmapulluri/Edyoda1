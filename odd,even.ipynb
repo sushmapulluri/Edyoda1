{
 "cells": [
  {
   "cell_type": "markdown",
   "id": "06f09f41",
   "metadata": {},
   "source": [
    "# Don't go Outside in Odd day"
   ]
  },
  {
   "cell_type": "code",
   "execution_count": 10,
   "id": "97cd24d9",
   "metadata": {},
   "outputs": [
    {
     "name": "stdout",
     "output_type": "stream",
     "text": [
      "Number of even numbers : 4\n",
      "Number of odd numbers : 5\n"
     ]
    }
   ],
   "source": [
    "numbers = (1, 2, 3, 4, 5, 6, 7, 8, 9)\n",
    "odd_count = 0\n",
    "even_count = 0\n",
    "for i in numbers:\n",
    "        if not i % 2:\n",
    "             even_count+=1\n",
    "        else:\n",
    "             odd_count+=1\n",
    "print(\"Number of even numbers :\",even_count)\n",
    "print(\"Number of odd numbers :\",odd_count)"
   ]
  },
  {
   "cell_type": "code",
   "execution_count": null,
   "id": "c49743e5",
   "metadata": {},
   "outputs": [],
   "source": []
  }
 ],
 "metadata": {
  "kernelspec": {
   "display_name": "Python 3 (ipykernel)",
   "language": "python",
   "name": "python3"
  },
  "language_info": {
   "codemirror_mode": {
    "name": "ipython",
    "version": 3
   },
   "file_extension": ".py",
   "mimetype": "text/x-python",
   "name": "python",
   "nbconvert_exporter": "python",
   "pygments_lexer": "ipython3",
   "version": "3.9.7"
  }
 },
 "nbformat": 4,
 "nbformat_minor": 5
}
