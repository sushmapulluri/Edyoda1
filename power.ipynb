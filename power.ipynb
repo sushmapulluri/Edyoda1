{
 "cells": [
  {
   "cell_type": "code",
   "execution_count": 1,
   "id": "379739c3",
   "metadata": {},
   "outputs": [
    {
     "name": "stdout",
     "output_type": "stream",
     "text": [
      "enter value of x:4\n",
      "enter value of n:2\n",
      "n-th power of x is: 16\n"
     ]
    }
   ],
   "source": [
    "class Power():\n",
    "    def __init__(self,x,n):\n",
    "        self.X=x\n",
    "        self.N=n\n",
    "    def print_pow(self):\n",
    "        y=self.X**self.N\n",
    "        print('n-th power of x is:',y)\n",
    "P=Power(int(input('enter value of x:')),int(input('enter value of n:')))\n",
    "P.print_pow()"
   ]
  },
  {
   "cell_type": "code",
   "execution_count": null,
   "id": "7db67144",
   "metadata": {},
   "outputs": [],
   "source": []
  }
 ],
 "metadata": {
  "kernelspec": {
   "display_name": "Python 3",
   "language": "python",
   "name": "python3"
  },
  "language_info": {
   "codemirror_mode": {
    "name": "ipython",
    "version": 3
   },
   "file_extension": ".py",
   "mimetype": "text/x-python",
   "name": "python",
   "nbconvert_exporter": "python",
   "pygments_lexer": "ipython3",
   "version": "3.8.8"
  }
 },
 "nbformat": 4,
 "nbformat_minor": 5
}
