{
 "cells": [
  {
   "cell_type": "markdown",
   "id": "c6ea2126",
   "metadata": {},
   "source": [
    "# Calculate the Upper and The lower Case"
   ]
  },
  {
   "cell_type": "code",
   "execution_count": 1,
   "id": "eab8faa3",
   "metadata": {},
   "outputs": [
    {
     "name": "stdout",
     "output_type": "stream",
     "text": [
      "Sample string : The quick Brow Fox\n",
      "No.of upper case characters :  3\n",
      "No.of lower case Characters :  12\n"
     ]
    }
   ],
   "source": [
    "def uplow(s):\n",
    "    d={\"upper\":0,\"lower\":0}\n",
    "    for i in s:\n",
    "        if i.isupper():\n",
    "            d[\"upper\"]+=1\n",
    "        elif i.islower():\n",
    "            d[\"lower\"]+=1\n",
    "        else:\n",
    "             pass\n",
    "    print (\"Sample string :\", s)\n",
    "    print (\"No.of upper case characters : \", d[\"upper\"])\n",
    "    print (\"No.of lower case Characters : \", d[\"lower\"])\n",
    "\n",
    "uplow('The quick Brow Fox')        \n",
    "            "
   ]
  },
  {
   "cell_type": "code",
   "execution_count": null,
   "id": "3600f210",
   "metadata": {},
   "outputs": [],
   "source": []
  }
 ],
 "metadata": {
  "kernelspec": {
   "display_name": "Python 3",
   "language": "python",
   "name": "python3"
  },
  "language_info": {
   "codemirror_mode": {
    "name": "ipython",
    "version": 3
   },
   "file_extension": ".py",
   "mimetype": "text/x-python",
   "name": "python",
   "nbconvert_exporter": "python",
   "pygments_lexer": "ipython3",
   "version": "3.8.8"
  }
 },
 "nbformat": 4,
 "nbformat_minor": 5
}
