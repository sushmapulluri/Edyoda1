{
 "cells": [
  {
   "cell_type": "markdown",
   "id": "1d6daae8",
   "metadata": {},
   "source": [
    "# Lets play Fibanocci"
   ]
  },
  {
   "cell_type": "code",
   "execution_count": 2,
   "id": "bb6d4709",
   "metadata": {},
   "outputs": [
    {
     "name": "stdout",
     "output_type": "stream",
     "text": [
      "1 1 2 3 5 8 13 21 34 "
     ]
    }
   ],
   "source": [
    "x=0\n",
    "y=1\n",
    "while y<50:\n",
    "    print(y,end=' ')\n",
    "    x,y=y,x+y"
   ]
  },
  {
   "cell_type": "code",
   "execution_count": null,
   "id": "a8b43e38",
   "metadata": {},
   "outputs": [],
   "source": []
  }
 ],
 "metadata": {
  "kernelspec": {
   "display_name": "Python 3 (ipykernel)",
   "language": "python",
   "name": "python3"
  },
  "language_info": {
   "codemirror_mode": {
    "name": "ipython",
    "version": 3
   },
   "file_extension": ".py",
   "mimetype": "text/x-python",
   "name": "python",
   "nbconvert_exporter": "python",
   "pygments_lexer": "ipython3",
   "version": "3.9.7"
  }
 },
 "nbformat": 4,
 "nbformat_minor": 5
}
