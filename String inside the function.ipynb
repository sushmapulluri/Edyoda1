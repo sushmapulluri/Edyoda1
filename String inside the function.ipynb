{
 "cells": [
  {
   "cell_type": "code",
   "execution_count": 5,
   "id": "3589144c",
   "metadata": {},
   "outputs": [
    {
     "name": "stdout",
     "output_type": "stream",
     "text": [
      "Sample string : 1234abcd\n",
      "Expected output : dcba4321 \n"
     ]
    }
   ],
   "source": [
    "s = \"1234abcd\"\n",
    "def reverse(s):\n",
    "    a = ' '\n",
    "    for i in s:\n",
    "        a = i + a\n",
    "    return a\n",
    "print(\"Sample string :\",s)\n",
    "print(\"Expected output :\",reverse(s))"
   ]
  },
  {
   "cell_type": "code",
   "execution_count": null,
   "id": "52e35595",
   "metadata": {},
   "outputs": [],
   "source": []
  }
 ],
 "metadata": {
  "kernelspec": {
   "display_name": "Python 3",
   "language": "python",
   "name": "python3"
  },
  "language_info": {
   "codemirror_mode": {
    "name": "ipython",
    "version": 3
   },
   "file_extension": ".py",
   "mimetype": "text/x-python",
   "name": "python",
   "nbconvert_exporter": "python",
   "pygments_lexer": "ipython3",
   "version": "3.8.8"
  }
 },
 "nbformat": 4,
 "nbformat_minor": 5
}
